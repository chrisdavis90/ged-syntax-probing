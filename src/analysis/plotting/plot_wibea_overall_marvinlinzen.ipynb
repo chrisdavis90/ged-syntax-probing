{
 "cells": [
  {
   "cell_type": "code",
   "execution_count": 1,
   "metadata": {},
   "outputs": [],
   "source": [
    "import pandas as pd\n",
    "import seaborn as sns\n",
    "import os\n",
    "import glob"
   ]
  },
  {
   "cell_type": "code",
   "execution_count": 17,
   "metadata": {},
   "outputs": [],
   "source": [
    "output_file_path = '../../../results/plots/wibea_marvinlinzen_model_overview.png'\n",
    "files = glob.glob('results/results_wibea_MARVINLINZEN_by_clause/*wibea_seed100.txt')"
   ]
  },
  {
   "cell_type": "code",
   "execution_count": 5,
   "metadata": {},
   "outputs": [
    {
     "name": "stdout",
     "output_type": "stream",
     "text": [
      "bert\n",
      "electra\n",
      "gpt2\n",
      "roberta\n",
      "xlnet_bi\n",
      "xlnet_uni\n"
     ]
    },
    {
     "data": {
      "text/plain": [
       "6"
      ]
     },
     "execution_count": 5,
     "metadata": {},
     "output_type": "execute_result"
    }
   ],
   "source": [
    "dfs = []\n",
    "for f in files:\n",
    "    name = None\n",
    "    parts = os.path.basename(f).split('_')\n",
    "    if 'xlnet' in parts:\n",
    "        name = '_'.join(parts[:2])\n",
    "    else:\n",
    "        name = parts[0].split('-')[0]\n",
    "\n",
    "    currentdf = pd.read_csv(f)\n",
    "    currentdf = currentdf.drop(['group'], axis=1).mean()\n",
    "    dfs.append(currentdf.to_frame(name))\n",
    "    \n",
    "len(dfs)"
   ]
  },
  {
   "cell_type": "code",
   "execution_count": 7,
   "metadata": {},
   "outputs": [
    {
     "data": {
      "text/html": [
       "<div>\n",
       "<style scoped>\n",
       "    .dataframe tbody tr th:only-of-type {\n",
       "        vertical-align: middle;\n",
       "    }\n",
       "\n",
       "    .dataframe tbody tr th {\n",
       "        vertical-align: top;\n",
       "    }\n",
       "\n",
       "    .dataframe thead th {\n",
       "        text-align: right;\n",
       "    }\n",
       "</style>\n",
       "<table border=\"1\" class=\"dataframe\">\n",
       "  <thead>\n",
       "    <tr style=\"text-align: right;\">\n",
       "      <th></th>\n",
       "      <th>bert</th>\n",
       "      <th>electra</th>\n",
       "      <th>gpt2</th>\n",
       "      <th>roberta</th>\n",
       "      <th>xlnet_bi</th>\n",
       "      <th>xlnet_uni</th>\n",
       "    </tr>\n",
       "  </thead>\n",
       "  <tbody>\n",
       "    <tr>\n",
       "      <th>1</th>\n",
       "      <td>0.395748</td>\n",
       "      <td>0.433741</td>\n",
       "      <td>0.365126</td>\n",
       "      <td>0.514371</td>\n",
       "      <td>0.392165</td>\n",
       "      <td>0.306041</td>\n",
       "    </tr>\n",
       "    <tr>\n",
       "      <th>2</th>\n",
       "      <td>0.429895</td>\n",
       "      <td>0.459755</td>\n",
       "      <td>0.351539</td>\n",
       "      <td>0.500959</td>\n",
       "      <td>0.438962</td>\n",
       "      <td>0.425972</td>\n",
       "    </tr>\n",
       "    <tr>\n",
       "      <th>3</th>\n",
       "      <td>0.434287</td>\n",
       "      <td>0.472750</td>\n",
       "      <td>0.371654</td>\n",
       "      <td>0.655480</td>\n",
       "      <td>0.460025</td>\n",
       "      <td>0.475481</td>\n",
       "    </tr>\n",
       "    <tr>\n",
       "      <th>4</th>\n",
       "      <td>0.436927</td>\n",
       "      <td>0.504704</td>\n",
       "      <td>0.370324</td>\n",
       "      <td>0.667320</td>\n",
       "      <td>0.504223</td>\n",
       "      <td>0.463451</td>\n",
       "    </tr>\n",
       "    <tr>\n",
       "      <th>5</th>\n",
       "      <td>0.476535</td>\n",
       "      <td>0.501978</td>\n",
       "      <td>0.360912</td>\n",
       "      <td>0.800407</td>\n",
       "      <td>0.585390</td>\n",
       "      <td>0.439146</td>\n",
       "    </tr>\n",
       "    <tr>\n",
       "      <th>6</th>\n",
       "      <td>0.502309</td>\n",
       "      <td>0.529328</td>\n",
       "      <td>0.447799</td>\n",
       "      <td>0.708131</td>\n",
       "      <td>0.592612</td>\n",
       "      <td>0.385696</td>\n",
       "    </tr>\n",
       "    <tr>\n",
       "      <th>7</th>\n",
       "      <td>0.611187</td>\n",
       "      <td>0.762632</td>\n",
       "      <td>0.429277</td>\n",
       "      <td>0.647160</td>\n",
       "      <td>0.518023</td>\n",
       "      <td>0.361061</td>\n",
       "    </tr>\n",
       "    <tr>\n",
       "      <th>8</th>\n",
       "      <td>0.742391</td>\n",
       "      <td>0.883911</td>\n",
       "      <td>0.342045</td>\n",
       "      <td>0.690235</td>\n",
       "      <td>0.475437</td>\n",
       "      <td>0.346684</td>\n",
       "    </tr>\n",
       "    <tr>\n",
       "      <th>9</th>\n",
       "      <td>0.843336</td>\n",
       "      <td>0.947781</td>\n",
       "      <td>0.378526</td>\n",
       "      <td>0.733605</td>\n",
       "      <td>0.468103</td>\n",
       "      <td>0.334405</td>\n",
       "    </tr>\n",
       "    <tr>\n",
       "      <th>10</th>\n",
       "      <td>0.816497</td>\n",
       "      <td>0.881173</td>\n",
       "      <td>0.314286</td>\n",
       "      <td>0.742938</td>\n",
       "      <td>0.476345</td>\n",
       "      <td>0.344330</td>\n",
       "    </tr>\n",
       "    <tr>\n",
       "      <th>11</th>\n",
       "      <td>0.839982</td>\n",
       "      <td>0.895951</td>\n",
       "      <td>0.209495</td>\n",
       "      <td>0.740771</td>\n",
       "      <td>0.451805</td>\n",
       "      <td>0.286867</td>\n",
       "    </tr>\n",
       "    <tr>\n",
       "      <th>12</th>\n",
       "      <td>0.889331</td>\n",
       "      <td>0.905966</td>\n",
       "      <td>0.245437</td>\n",
       "      <td>0.716717</td>\n",
       "      <td>0.405657</td>\n",
       "      <td>0.305733</td>\n",
       "    </tr>\n",
       "  </tbody>\n",
       "</table>\n",
       "</div>"
      ],
      "text/plain": [
       "        bert   electra      gpt2   roberta  xlnet_bi  xlnet_uni\n",
       "1   0.395748  0.433741  0.365126  0.514371  0.392165   0.306041\n",
       "2   0.429895  0.459755  0.351539  0.500959  0.438962   0.425972\n",
       "3   0.434287  0.472750  0.371654  0.655480  0.460025   0.475481\n",
       "4   0.436927  0.504704  0.370324  0.667320  0.504223   0.463451\n",
       "5   0.476535  0.501978  0.360912  0.800407  0.585390   0.439146\n",
       "6   0.502309  0.529328  0.447799  0.708131  0.592612   0.385696\n",
       "7   0.611187  0.762632  0.429277  0.647160  0.518023   0.361061\n",
       "8   0.742391  0.883911  0.342045  0.690235  0.475437   0.346684\n",
       "9   0.843336  0.947781  0.378526  0.733605  0.468103   0.334405\n",
       "10  0.816497  0.881173  0.314286  0.742938  0.476345   0.344330\n",
       "11  0.839982  0.895951  0.209495  0.740771  0.451805   0.286867\n",
       "12  0.889331  0.905966  0.245437  0.716717  0.405657   0.305733"
      ]
     },
     "execution_count": 7,
     "metadata": {},
     "output_type": "execute_result"
    }
   ],
   "source": [
    "modeldf = pd.concat(dfs, axis=1)\n",
    "modeldf = modeldf.sort_index(axis=1)\n",
    "modeldf"
   ]
  },
  {
   "cell_type": "code",
   "execution_count": 9,
   "metadata": {},
   "outputs": [
    {
     "data": {
      "text/plain": [
       "[(0.0, 1.0)]"
      ]
     },
     "execution_count": 9,
     "metadata": {},
     "output_type": "execute_result"
    },
    {
     "data": {
      "image/png": "[encoded data removed]",
      "text/plain": [
       "<Figure size 432x288 with 1 Axes>"
      ]
     },
     "metadata": {
      "needs_background": "light"
     },
     "output_type": "display_data"
    }
   ],
   "source": [
    "# plot\n",
    "myplot = sns.lineplot(data=modeldf)\n",
    "myplot.set_ylabel('$F_{1}$ Score')\n",
    "myplot.set_xlabel('Layer')\n",
    "myplot.axhline(0.43, color=(0, 0, 0, 0.65))\n",
    "myplot.set(ylim=(0, 1))\n"
   ]
  },
  {
   "cell_type": "code",
   "execution_count": 18,
   "metadata": {},
   "outputs": [],
   "source": [
    "fig = myplot.get_figure()\n",
    "fig.savefig(output_file_path, bbox_inches=\"tight\", dpi=300) "
   ]
  }
 ],
 "metadata": {
  "interpreter": {
   "hash": "cafda10e3f9d390108966ae9725bde65a2bfd47593e70f8a7f752c5cb0ae7f96"
  },
  "kernelspec": {
   "display_name": "Python 3.7.11 ('bertseq-py3.7')",
   "language": "python",
   "name": "python3"
  },
  "language_info": {
   "codemirror_mode": {
    "name": "ipython",
    "version": 3
   },
   "file_extension": ".py",
   "mimetype": "text/x-python",
   "name": "python",
   "nbconvert_exporter": "python",
   "pygments_lexer": "ipython3",
   "version": "3.7.11"
  },
  "orig_nbformat": 4
 },
 "nbformat": 4,
 "nbformat_minor": 2
}
